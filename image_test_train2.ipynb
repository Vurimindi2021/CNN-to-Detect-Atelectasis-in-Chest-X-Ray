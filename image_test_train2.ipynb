{
  "nbformat": 4,
  "nbformat_minor": 0,
  "metadata": {
    "colab": {
      "name": "image_test_train2.ipynb",
      "private_outputs": true,
      "provenance": [],
      "collapsed_sections": [],
      "authorship_tag": "ABX9TyOQNJHCb0/r4FiCz5JqtWX8",
      "include_colab_link": true
    },
    "kernelspec": {
      "name": "python3",
      "display_name": "Python 3"
    },
    "language_info": {
      "name": "python"
    },
    "accelerator": "GPU"
  },
  "cells": [
    {
      "cell_type": "markdown",
      "metadata": {
        "id": "view-in-github",
        "colab_type": "text"
      },
      "source": [
        "<a href=\"https://colab.research.google.com/github/Vurimindi2021/Capstone2/blob/main/image_test_train2.ipynb\" target=\"_parent\"><img src=\"https://colab.research.google.com/assets/colab-badge.svg\" alt=\"Open In Colab\"/></a>"
      ]
    },
    {
      "cell_type": "code",
      "metadata": {
        "id": "UD5ZtNmiqHtB"
      },
      "source": [
        "import numpy as np\n",
        "import os\n",
        "import math\n",
        "import pandas as pd\n",
        "import datetime\n",
        "import matplotlib.pyplot as plt\n",
        "import tensorflow as tf\n",
        "import seaborn as sns\n",
        "from google.colab import drive\n",
        "from tensorflow.keras.preprocessing.image import ImageDataGenerator\n",
        "from tensorflow.keras.layers import Activation, Dense, Flatten, Dropout\n",
        "from tensorflow.keras import layers, Model, optimizers, callbacks\n",
        "from sklearn.metrics import confusion_matrix, classification_report, roc_auc_score\n",
        "from tensorflow.keras.metrics import BinaryAccuracy, Recall, Precision, SensitivityAtSpecificity\n",
        "from tensorflow.keras.metrics import FalseNegatives, FalsePositives\n",
        "#from tensorflow.keras.applications.vgg16 import preprocess_input\n",
        "from tensorflow.keras.applications.vgg19 import VGG19 \n",
        "#from tensorflow.keras.preprocessing.image import image, load_img, img_to_array\n",
        "from numpy import expand_dims\n",
        "from tensorflow.keras.models import Model, Sequential\n",
        "from tensorflow.keras.layers import Dense, GlobalAveragePooling2D, Conv2D, Flatten, Dropout, MaxPooling2D\n",
        "from tensorflow.keras.applications.vgg16 import VGG16\n",
        "from tensorflow.keras.applications.vgg16 import preprocess_input\n",
        "from tensorflow.keras.optimizers import Adam,SGD,RMSprop\n",
        "from tensorflow.keras.utils import plot_model"
      ],
      "execution_count": null,
      "outputs": []
    },
    {
      "cell_type": "code",
      "metadata": {
        "id": "SZfkIRWOrJqA"
      },
      "source": [
        "drive.flush_and_unmount()\n",
        "drive.mount('/content/drive', force_remount=True)"
      ],
      "execution_count": null,
      "outputs": []
    },
    {
      "cell_type": "code",
      "metadata": {
        "id": "PcPcX_R4RR0c"
      },
      "source": [
        "#Paths \n",
        "train_path = '/content/drive/MyDrive/output/train'\n",
        "valid_path = '/content/drive/MyDrive/output/val'\n",
        "test_path  = '/content/drive/MyDrive/output/test'\n",
        "chkpt_path = '/content/drive/MyDrive/check_point2'\n",
        "log_path = os.path.join(\"/content/drive/MyDrive/logs/fit/\", datetime.datetime.now().strftime(\"%Y%m%d-%H%M%S\"))"
      ],
      "execution_count": null,
      "outputs": []
    },
    {
      "cell_type": "code",
      "metadata": {
        "id": "TwvwBgNuRbJe"
      },
      "source": [
        "#Global Parameters\n",
        "types       = ['Atelectasis','NoFinding']\n",
        "batch_size  = 32\n",
        "epochs      = 50"
      ],
      "execution_count": null,
      "outputs": []
    },
    {
      "cell_type": "code",
      "metadata": {
        "id": "M0VGu1Tebk8D"
      },
      "source": [
        "import math\n",
        "train_size  = 15177\n",
        "val_size    = 3702\n",
        "compute_steps_per_epoch = lambda x: int(math.ceil(1. * x / batch_size))\n",
        "steps_per_epoch = compute_steps_per_epoch(train_size)\n",
        "val_steps = compute_steps_per_epoch(val_size)"
      ],
      "execution_count": null,
      "outputs": []
    },
    {
      "cell_type": "code",
      "metadata": {
        "id": "WcbAzdPXOcTT"
      },
      "source": [
        "#ImageDataGenerator\n",
        "train_images = ImageDataGenerator(rescale=1./255,\n",
        "                                  rotation_range = 5, \n",
        "                                  shear_range = 0.02,\n",
        "                                  zoom_range = 0.02, \n",
        "                                  samplewise_center=True, \n",
        "                                  samplewise_std_normalization= True\n",
        "                                  ).flow_from_directory(train_path, \n",
        "                                                        target_size=(256,256),\n",
        "                                                        classes=types, \n",
        "                                                        batch_size=batch_size,\n",
        "                                                        class_mode='binary')                               \n",
        "valid_images = ImageDataGenerator(rescale=1./255,\n",
        "                                  rotation_range = 5, \n",
        "                                  shear_range = 0.02,\n",
        "                                  zoom_range = 0.02, \n",
        "                                  samplewise_center=True, \n",
        "                                  samplewise_std_normalization= True\n",
        "                                  ).flow_from_directory(valid_path, \n",
        "                                                        target_size=(256,256),\n",
        "                                                        classes=types, \n",
        "                                                        batch_size=batch_size,\n",
        "                                                        class_mode='binary')  \n",
        "test_images = ImageDataGenerator(rescale=1./255).flow_from_directory(test_path, \n",
        "                                                        target_size=(256,256),\n",
        "                                                        classes=types, \n",
        "                                                        batch_size=3717,\n",
        "                                                        class_mode='binary')"
      ],
      "execution_count": null,
      "outputs": []
    },
    {
      "cell_type": "code",
      "metadata": {
        "id": "GlvS-sYs_IiK"
      },
      "source": [
        "# load model\n",
        "model = VGG19(weights='imagenet', include_top=False,  input_shape=(256,256,3))"
      ],
      "execution_count": null,
      "outputs": []
    },
    {
      "cell_type": "code",
      "metadata": {
        "id": "2nZO3rkQ_Rb4"
      },
      "source": [
        "# adding layers \n",
        "for layer in model.layers: \n",
        "    layer.trainable = False\n",
        "x = tf.keras.layers.Flatten()(model.output)\n",
        "x = tf.keras.layers.Dense(100, activation='relu')(x)\n",
        "x = tf.keras.layers.Dense(100, activation='relu')(x)\n",
        "x = tf.keras.layers.Dense(100, activation='relu')(x)\n",
        "predictions = tf.keras.layers.Dense(1, activation='sigmoid')(x)\n",
        "model_vvg_random = tf.keras.models.Model(inputs=model.input, outputs=predictions)"
      ],
      "execution_count": null,
      "outputs": []
    },
    {
      "cell_type": "code",
      "metadata": {
        "id": "pSbqp4MAwVQf"
      },
      "source": [
        "# compile\n",
        "model_vvg_random.compile(optimizer=tf.keras.optimizers.Adamax(learning_rate=0.001), \n",
        "                         loss='binary_crossentropy',               \n",
        "                         metrics=[\n",
        "                                  BinaryAccuracy(), \n",
        "                                  Recall(), \n",
        "                                  Precision()\n",
        "                                  ])\n",
        "# summarize the model\n",
        "model_vvg_random.summary()"
      ],
      "execution_count": null,
      "outputs": []
    },
    {
      "cell_type": "code",
      "metadata": {
        "id": "KY_UCAZWGu6Z"
      },
      "source": [
        "tf.keras.utils.plot_model(model, to_file='/content/drive/MyDrive/figs/vgg19_model1.png')"
      ],
      "execution_count": null,
      "outputs": []
    },
    {
      "cell_type": "code",
      "metadata": {
        "id": "dfpa2yX1BbuU"
      },
      "source": [
        "checkpoint = callbacks.ModelCheckpoint(filepath=chkpt_path,\n",
        "                                    save_weights_only=True,\n",
        "                                    monitor='val_binary_accuracy',\n",
        "                                    mode='max',\n",
        "                                    save_best_only=True)\n",
        "earlystop = callbacks.EarlyStopping(monitor='val_binary_accuracy', \n",
        "                                    min_delta=0.001, \n",
        "                                    patience=5, \n",
        "                                    verbose=0,\n",
        "                                    mode='auto', \n",
        "                                    baseline=None, \n",
        "                                    restore_best_weights=True)\n",
        "tensorboard = callbacks.TensorBoard(log_dir=log_path, \n",
        "                                    histogram_freq=1,\n",
        "                                    write_graph=True)\n",
        "# train the model\n",
        "model_vvg_random.fit(train_images,\n",
        "                      shuffle=True,\n",
        "                      epochs=epochs,\n",
        "                      steps_per_epoch=steps_per_epoch,\n",
        "                      validation_steps=val_steps,\n",
        "                      validation_data=valid_images,\n",
        "                      callbacks=[checkpoint, earlystop, tensorboard,cm_callback])"
      ],
      "execution_count": null,
      "outputs": []
    },
    {
      "cell_type": "code",
      "metadata": {
        "id": "SHCqzePTaN-d"
      },
      "source": [
        "# Calculate the class probabilities\n",
        "probabilities = model_vvg_random.predict(test_images)\n",
        "classes = probabilities> 0.5\n",
        "len(classes)"
      ],
      "execution_count": null,
      "outputs": []
    },
    {
      "cell_type": "code",
      "metadata": {
        "id": "l-yADnjVt7XE"
      },
      "source": [
        "print(classes)"
      ],
      "execution_count": null,
      "outputs": []
    },
    {
      "cell_type": "markdown",
      "metadata": {
        "id": "j2Pjr5FKH89F"
      },
      "source": [
        ""
      ]
    },
    {
      "cell_type": "code",
      "metadata": {
        "id": "DQIobfASCunO"
      },
      "source": [
        "%load_ext tensorboard\n",
        "#%reload_ext tensorboard\n",
        "import tensorflow as tf\n",
        "import datetime\n",
        "%tensorboard --logdir /content/drive/MyDrive/logs"
      ],
      "execution_count": null,
      "outputs": []
    }
  ]
}