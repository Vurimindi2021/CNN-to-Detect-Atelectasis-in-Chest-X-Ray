{
  "nbformat": 4,
  "nbformat_minor": 0,
  "metadata": {
    "colab": {
      "name": "download_gz_files.ipynb",
      "provenance": [],
      "collapsed_sections": [],
      "include_colab_link": true
    },
    "kernelspec": {
      "display_name": "Python 3",
      "name": "python3"
    }
  },
  "cells": [
    {
      "cell_type": "markdown",
      "metadata": {
        "id": "view-in-github",
        "colab_type": "text"
      },
      "source": [
        "<a href=\"https://colab.research.google.com/github/Vurimindi2021/Capstone2/blob/main/download_gz_files.ipynb\" target=\"_parent\"><img src=\"https://colab.research.google.com/assets/colab-badge.svg\" alt=\"Open In Colab\"/></a>"
      ]
    },
    {
      "cell_type": "markdown",
      "metadata": {
        "id": "CO9t8fZOhZQq"
      },
      "source": [
        "## Download NIH Clinical Center public chest X-Ray datasets"
      ]
    },
    {
      "cell_type": "code",
      "metadata": {
        "colab": {
          "base_uri": "https://localhost:8080/"
        },
        "id": "GBtveoG5p965",
        "outputId": "4aaed9fa-f4f6-4bc0-e886-bcbd68558730"
      },
      "source": [
        "import numpy as np\n",
        "import pandas as pd\n",
        "import os\n",
        "from os import path, walk\n",
        "from google.colab import drive\n",
        "drive.flush_and_unmount()\n",
        "drive.mount('/content/drive', force_remount=True)"
      ],
      "execution_count": null,
      "outputs": [
        {
          "output_type": "stream",
          "text": [
            "Drive not mounted, so nothing to flush and unmount.\n",
            "Mounted at /content/drive\n"
          ],
          "name": "stdout"
        }
      ]
    },
    {
      "cell_type": "code",
      "metadata": {
        "colab": {
          "base_uri": "https://localhost:8080/"
        },
        "id": "364MVPfCfNos",
        "outputId": "946d1b9c-5823-44eb-8d31-e4daa6b96bea"
      },
      "source": [
        "#!/usr/bin/env python3\n",
        "# Download the 56 zip files in Images_png in batches\n",
        "import urllib.request\n",
        "\n",
        "# URLs for the zip files\n",
        "links = [\n",
        "    'https://nihcc.box.com/shared/static/vfk49d74nhbxq3nqjg0900w5nvkorp5c.gz',\n",
        "    'https://nihcc.box.com/shared/static/i28rlmbvmfjbl8p2n3ril0pptcmcu9d1.gz',\n",
        "    'https://nihcc.box.com/shared/static/f1t00wrtdk94satdfb9olcolqx20z2jp.gz',\n",
        "\t  'https://nihcc.box.com/shared/static/0aowwzs5lhjrceb3qp67ahp0rd1l1etg.gz',\n",
        "    'https://nihcc.box.com/shared/static/v5e3goj22zr6h8tzualxfsqlqaygfbsn.gz',\n",
        "\t  'https://nihcc.box.com/shared/static/asi7ikud9jwnkrnkj99jnpfkjdes7l6l.gz',\n",
        "\t  'https://nihcc.box.com/shared/static/jn1b4mw4n6lnh74ovmcjb8y48h8xj07n.gz',\n",
        "    'https://nihcc.box.com/shared/static/tvpxmn7qyrgl0w8wfh9kqfjskv6nmm1j.gz',\n",
        "\t  'https://nihcc.box.com/shared/static/upyy3ml7qdumlgk2rfcvlb9k6gvqq2pj.gz',\n",
        "\t  'https://nihcc.box.com/shared/static/l6nilvfa9cg3s28tqv1qc1olm3gnz54p.gz',\n",
        "\t  'https://nihcc.box.com/shared/static/hhq8fkdgvcari67vfhs7ppg2w6ni4jze.gz',\n",
        "\t  'https://nihcc.box.com/shared/static/ioqwiy20ihqwyr8pf4c24eazhh281pbu.gz'\n",
        "]\n",
        "\n",
        "for idx, link in enumerate(links):\n",
        "    fn = '/content/drive/MyDrive/nih_images/images_%02d.tar.gz' % (idx+1)\n",
        "    print('downloading to: '+fn+'...')\n",
        "    urllib.request.urlretrieve(link, fn)  # download the zip file\n",
        "\n",
        "print(\"Download complete. Please check the checksums\")\n",
        "\"\"\""
      ],
      "execution_count": null,
      "outputs": [
        {
          "output_type": "stream",
          "text": [
            "downloading to: /content/drive/MyDrive/nih_images/images_01.tar.gz...\n",
            "downloading to: /content/drive/MyDrive/nih_images/images_02.tar.gz...\n",
            "downloading to: /content/drive/MyDrive/nih_images/images_03.tar.gz...\n",
            "downloading to: /content/drive/MyDrive/nih_images/images_04.tar.gz...\n",
            "downloading to: /content/drive/MyDrive/nih_images/images_05.tar.gz...\n",
            "downloading to: /content/drive/MyDrive/nih_images/images_06.tar.gz...\n",
            "downloading to: /content/drive/MyDrive/nih_images/images_07.tar.gz...\n",
            "downloading to: /content/drive/MyDrive/nih_images/images_08.tar.gz...\n",
            "downloading to: /content/drive/MyDrive/nih_images/images_09.tar.gz...\n",
            "downloading to: /content/drive/MyDrive/nih_images/images_10.tar.gz...\n",
            "downloading to: /content/drive/MyDrive/nih_images/images_11.tar.gz...\n",
            "downloading to: /content/drive/MyDrive/nih_images/images_12.tar.gz...\n",
            "Download complete. Please check the checksums\n"
          ],
          "name": "stdout"
        }
      ]
    },
    {
      "cell_type": "markdown",
      "metadata": {
        "id": "getY2zb4-dXt"
      },
      "source": [
        "## Unzip Tar Files"
      ]
    },
    {
      "cell_type": "code",
      "metadata": {
        "id": "5VB5myis-k37",
        "colab": {
          "base_uri": "https://localhost:8080/"
        },
        "outputId": "1006ec26-9db6-4923-dd81-c87d51c80a5b"
      },
      "source": [
        "import tarfile\n",
        "for idx in range(1,13):\n",
        "    fname = '/content/drive/MyDrive/nih_images/images_%02d.tar.gz' % (idx)\n",
        "    parent_dir= \"/content/drive/MyDrive/\"\n",
        "    path = os.path.join(parent_dir, 'images_%02d' % (idx))\n",
        "    tar = tarfile.open(fname, \"r:gz\")\n",
        "    if os.path.isdir(path) == False:\n",
        "      os.mkdir(path)\n",
        "      print(\"Directory '% s' created\" % dir)\n",
        "      tar.extractall(path)\n",
        "      print(\"End of extracting : \", 'images_%02d.tar.gz' % (idx))\n",
        "      tar.close()    \n"
      ],
      "execution_count": null,
      "outputs": [
        {
          "output_type": "stream",
          "text": [
            "Directory '<built-in function dir>' created\n",
            "End of extracting :  images_01.tar.gz\n",
            "Directory '<built-in function dir>' created\n",
            "End of extracting :  images_02.tar.gz\n",
            "Directory '<built-in function dir>' created\n",
            "End of extracting :  images_03.tar.gz\n",
            "Directory '<built-in function dir>' created\n",
            "End of extracting :  images_04.tar.gz\n",
            "Directory '<built-in function dir>' created\n",
            "End of extracting :  images_05.tar.gz\n",
            "Directory '<built-in function dir>' created\n",
            "End of extracting :  images_06.tar.gz\n",
            "Directory '<built-in function dir>' created\n",
            "End of extracting :  images_07.tar.gz\n",
            "Directory '<built-in function dir>' created\n",
            "End of extracting :  images_08.tar.gz\n",
            "Directory '<built-in function dir>' created\n",
            "End of extracting :  images_09.tar.gz\n",
            "Directory '<built-in function dir>' created\n",
            "End of extracting :  images_10.tar.gz\n",
            "Directory '<built-in function dir>' created\n",
            "End of extracting :  images_11.tar.gz\n",
            "Directory '<built-in function dir>' created\n",
            "End of extracting :  images_12.tar.gz\n"
          ],
          "name": "stdout"
        }
      ]
    },
    {
      "cell_type": "code",
      "metadata": {
        "id": "tjlP1tJ-NeZ5",
        "colab": {
          "base_uri": "https://localhost:8080/"
        },
        "outputId": "e2282990-e957-4bef-c6fa-f332b86afe84"
      },
      "source": [
        "for idx in range(1,13):\n",
        "  parent_dir= \"/content/drive/MyDrive/\"\n",
        "  imagepath = os.path.join(parent_dir, 'images_%02d' % (idx), 'images')\n",
        "  fname = []\n",
        "  for (dirpath, dirnames, filenames) in walk(imagepath):\n",
        "    fname.extend(filenames)\n",
        "    break\n",
        "  images = pd.DataFrame({'Image Index':fname})\n",
        "  outfile = \"/content/drive/My Drive/Colab Notebooks/\" + 'images_%02d' % (idx) + '.csv'\n",
        "  images.to_csv(outfile)\n",
        "  print('images_%02d' % (idx), \":\", len(fname))"
      ],
      "execution_count": null,
      "outputs": [
        {
          "output_type": "stream",
          "text": [
            "images_01 : 4999\n",
            "images_02 : 10000\n",
            "images_03 : 10000\n",
            "images_04 : 10000\n",
            "images_05 : 10000\n",
            "images_06 : 10000\n",
            "images_07 : 10000\n",
            "images_08 : 10000\n",
            "images_09 : 10000\n",
            "images_10 : 10000\n",
            "images_11 : 10000\n",
            "images_12 : 7121\n"
          ],
          "name": "stdout"
        }
      ]
    }
  ]
}