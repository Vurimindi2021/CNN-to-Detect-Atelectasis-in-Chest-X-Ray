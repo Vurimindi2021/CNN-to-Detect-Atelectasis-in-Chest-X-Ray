{
  "nbformat": 4,
  "nbformat_minor": 0,
  "metadata": {
    "colab": {
      "name": "reduce_number_images.ipynb",
      "private_outputs": true,
      "provenance": [],
      "machine_shape": "hm",
      "authorship_tag": "ABX9TyNq5pLrywp2ilUUAA5bIwU5",
      "include_colab_link": true
    },
    "kernelspec": {
      "name": "python3",
      "display_name": "Python 3"
    },
    "language_info": {
      "name": "python"
    }
  },
  "cells": [
    {
      "cell_type": "markdown",
      "metadata": {
        "id": "view-in-github",
        "colab_type": "text"
      },
      "source": [
        "<a href=\"https://colab.research.google.com/github/Vurimindi2021/CNN-to-Detect-Atelectasis-in-Chest-X-Ray/blob/main/src/reduce_number_images.ipynb\" target=\"_parent\"><img src=\"https://colab.research.google.com/assets/colab-badge.svg\" alt=\"Open In Colab\"/></a>"
      ]
    },
    {
      "cell_type": "code",
      "metadata": {
        "id": "RhandNZsModx"
      },
      "source": [
        "from google.colab import drive\n",
        "from os import path, walk\n",
        "drive.flush_and_unmount()\n",
        "drive.mount('/content/drive', force_remount=True)"
      ],
      "execution_count": null,
      "outputs": []
    },
    {
      "cell_type": "code",
      "metadata": {
        "id": "50bzLz4DM2S8"
      },
      "source": [
        "cd /content/drive/MyDrive/data/Atelectasis"
      ],
      "execution_count": null,
      "outputs": []
    },
    {
      "cell_type": "code",
      "metadata": {
        "id": "XuJon8hxNJH8"
      },
      "source": [
        "!ls -1 | wc -l"
      ],
      "execution_count": null,
      "outputs": []
    },
    {
      "cell_type": "code",
      "metadata": {
        "id": "PVsTeJyxNUrm"
      },
      "source": [
        "cd /content/drive/MyDrive/data/NoFinding"
      ],
      "execution_count": null,
      "outputs": []
    },
    {
      "cell_type": "code",
      "metadata": {
        "id": "c4O8ciqvNWSe"
      },
      "source": [
        "!ls -1 | wc -l"
      ],
      "execution_count": null,
      "outputs": []
    },
    {
      "cell_type": "code",
      "metadata": {
        "id": "iILjp2kNMt1_"
      },
      "source": [
        "imagepath = \"/content/drive/MyDrive/data/Atelectasis\"\n",
        "fname = []\n",
        "for (dirpath, dirnames, filenames) in walk(imagepath):\n",
        "  fname.extend(filenames)\n",
        "  break"
      ],
      "execution_count": null,
      "outputs": []
    },
    {
      "cell_type": "code",
      "metadata": {
        "id": "kYPOJZSsPRVv"
      },
      "source": [
        "import os\n",
        "for idx, image in  enumerate(fname):\n",
        "  if idx >=8545:\n",
        "    continue\n",
        "  infile = os.path.join(imagepath, image)\n",
        "  os.system('rm -rf %s' % (infile))"
      ],
      "execution_count": null,
      "outputs": []
    },
    {
      "cell_type": "code",
      "metadata": {
        "id": "0-pKA9hTQxJj"
      },
      "source": [
        "imagepath = \"/content/drive/MyDrive/data/NoFinding\"\n",
        "fname = []\n",
        "for (dirpath, dirnames, filenames) in walk(imagepath):\n",
        "  fname.extend(filenames)\n",
        "  break"
      ],
      "execution_count": null,
      "outputs": []
    },
    {
      "cell_type": "code",
      "metadata": {
        "id": "tOJOCn7OQ2bD"
      },
      "source": [
        "import os\n",
        "for idx, image in  enumerate(fname):\n",
        "  if idx >=11000:\n",
        "    continue\n",
        "  infile = os.path.join(imagepath, image)\n",
        "  os.system('rm -rf %s' % (infile))"
      ],
      "execution_count": null,
      "outputs": []
    }
  ]
}