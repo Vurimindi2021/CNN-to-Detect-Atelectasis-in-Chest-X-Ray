{
  "nbformat": 4,
  "nbformat_minor": 0,
  "metadata": {
    "colab": {
      "name": "move_images.ipynb",
      "private_outputs": true,
      "provenance": [],
      "machine_shape": "hm",
      "authorship_tag": "ABX9TyN73QauEK2pDoODyInfmQS9",
      "include_colab_link": true
    },
    "kernelspec": {
      "name": "python3",
      "display_name": "Python 3"
    },
    "language_info": {
      "name": "python"
    }
  },
  "cells": [
    {
      "cell_type": "markdown",
      "metadata": {
        "id": "view-in-github",
        "colab_type": "text"
      },
      "source": [
        "<a href=\"https://colab.research.google.com/github/Vurimindi2021/CNN-to-Detect-Atelectasis-in-Chest-X-Ray/blob/main/src/move_images.ipynb\" target=\"_parent\"><img src=\"https://colab.research.google.com/assets/colab-badge.svg\" alt=\"Open In Colab\"/></a>"
      ]
    },
    {
      "cell_type": "code",
      "metadata": {
        "id": "RhandNZsModx"
      },
      "source": [
        "from google.colab import drive\n",
        "from os import path, walk\n",
        "import os"
      ],
      "execution_count": null,
      "outputs": []
    },
    {
      "cell_type": "code",
      "metadata": {
        "id": "FSclk7pfX_sF"
      },
      "source": [
        "drive.flush_and_unmount()\n",
        "drive.mount('/content/drive', force_remount=True)"
      ],
      "execution_count": null,
      "outputs": []
    },
    {
      "cell_type": "code",
      "metadata": {
        "id": "50bzLz4DM2S8"
      },
      "source": [
        "inpath=\"/content/drive/MyDrive/images/Atelectasis\"\n",
        "outpath=\"/content/drive/MyDrive/data/Atelectasis\""
      ],
      "execution_count": null,
      "outputs": []
    },
    {
      "cell_type": "code",
      "metadata": {
        "id": "YJX9Mcp_Xe9M"
      },
      "source": [
        "fname = []\n",
        "for (dirpath, dirnames, filenames) in walk(inpath):\n",
        "  fname.extend(filenames)\n",
        "  break\n",
        "len(fname)"
      ],
      "execution_count": null,
      "outputs": []
    },
    {
      "cell_type": "code",
      "metadata": {
        "id": "qsb8gTPkXvS6"
      },
      "source": [
        "for idx, image in  enumerate(fname):\n",
        "  if idx >=18000:\n",
        "    continue\n",
        "  infile = os.path.join(inpath, image)\n",
        "  outfile = os.path.join(outpath, image)\n",
        "  try:\n",
        "    os.system('cp -p %s %s' % (infile, outfile))\n",
        "  except OSError as error:\n",
        "    print(error)\n",
        "    continue"
      ],
      "execution_count": null,
      "outputs": []
    },
    {
      "cell_type": "code",
      "metadata": {
        "id": "rjmsYBVTYTve"
      },
      "source": [
        "inpath=\"/content/drive/MyDrive/images/NoFinding\"\n",
        "outpath=\"/content/drive/MyDrive/data/NoFinding\""
      ],
      "execution_count": null,
      "outputs": []
    },
    {
      "cell_type": "markdown",
      "metadata": {
        "id": "LLCYjeYTH1nK"
      },
      "source": [
        ""
      ]
    },
    {
      "cell_type": "code",
      "metadata": {
        "id": "PVsTeJyxNUrm"
      },
      "source": [
        "fname = []\n",
        "for (dirpath, dirnames, filenames) in walk(inpath):\n",
        "  fname.extend(filenames)\n",
        "  break\n",
        "len(fname)"
      ],
      "execution_count": null,
      "outputs": []
    },
    {
      "cell_type": "code",
      "metadata": {
        "id": "iILjp2kNMt1_"
      },
      "source": [
        "for idx, image in  enumerate(fname):\n",
        "  if idx >=18000:\n",
        "    continue\n",
        "  infile = os.path.join(inpath, image)\n",
        "  outfile = os.path.join(outpath, image)\n",
        "  try:\n",
        "    os.system('cp -p %s %s' % (infile, outfile))\n",
        "  except OSError as error:\n",
        "    print(error)\n",
        "    continue\n"
      ],
      "execution_count": null,
      "outputs": []
    },
    {
      "cell_type": "code",
      "metadata": {
        "id": "-gOyxg6A6zqk"
      },
      "source": [
        "cd /content/drive/MyDrive/data/NoFinding"
      ],
      "execution_count": null,
      "outputs": []
    },
    {
      "cell_type": "code",
      "metadata": {
        "id": "s_EB1nsB7ABA"
      },
      "source": [
        "!ls -1|wc -l"
      ],
      "execution_count": null,
      "outputs": []
    },
    {
      "cell_type": "code",
      "metadata": {
        "id": "dpurSENgH6A7"
      },
      "source": [
        "cd /content/drive/MyDrive/data/Atelectasis"
      ],
      "execution_count": null,
      "outputs": []
    },
    {
      "cell_type": "code",
      "metadata": {
        "id": "0wkSYZEFH-Nt"
      },
      "source": [
        "!ls -1|wc -l"
      ],
      "execution_count": null,
      "outputs": []
    }
  ]
}