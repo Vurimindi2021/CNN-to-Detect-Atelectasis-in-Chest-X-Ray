{
  "nbformat": 4,
  "nbformat_minor": 0,
  "metadata": {
    "colab": {
      "name": "image_test_train3.ipynb",
      "private_outputs": true,
      "provenance": [],
      "collapsed_sections": [],
      "machine_shape": "hm",
      "authorship_tag": "ABX9TyM7W1KrD8sLLshcXPoErMSP",
      "include_colab_link": true
    },
    "kernelspec": {
      "name": "python3",
      "display_name": "Python 3"
    },
    "language_info": {
      "name": "python"
    },
    "accelerator": "GPU"
  },
  "cells": [
    {
      "cell_type": "markdown",
      "metadata": {
        "id": "view-in-github",
        "colab_type": "text"
      },
      "source": [
        "<a href=\"https://colab.research.google.com/github/Vurimindi2021/CNN-to-Detect-Atelectasis-in-Chest-X-Ray/blob/main/src/image_test_train3.ipynb\" target=\"_parent\"><img src=\"https://colab.research.google.com/assets/colab-badge.svg\" alt=\"Open In Colab\"/></a>"
      ]
    },
    {
      "cell_type": "code",
      "metadata": {
        "id": "UD5ZtNmiqHtB"
      },
      "source": [
        "import numpy as np\n",
        "import os\n",
        "import math\n",
        "import pandas as pd\n",
        "import datetime\n",
        "import matplotlib.pyplot as plt\n",
        "import tensorflow as tf\n",
        "import seaborn as sns\n",
        "from google.colab import drive\n",
        "from tensorflow.keras.preprocessing.image import ImageDataGenerator\n",
        "from tensorflow.keras.layers import Activation, Dense, Flatten, Dropout\n",
        "from tensorflow.keras import layers, Model, optimizers, callbacks\n",
        "from sklearn.metrics import confusion_matrix, classification_report, roc_auc_score\n",
        "from tensorflow.keras.metrics import BinaryAccuracy, Recall, Precision, SensitivityAtSpecificity\n",
        "from tensorflow.keras.metrics import FalseNegatives, FalsePositives\n",
        "from tensorflow.keras.applications.vgg16 import preprocess_input\n",
        "#from tensorflow.keras.preprocessing.image import image, load_img, img_to_array\n",
        "from numpy import expand_dims\n",
        "from tensorflow.keras.models import Model, Sequential\n",
        "from tensorflow.keras.layers import Dense, GlobalAveragePooling2D, Conv2D, Flatten, Dropout, MaxPooling2D\n",
        "from tensorflow.keras.applications.vgg16 import VGG16\n",
        "from tensorflow.keras.applications.vgg16 import preprocess_input\n",
        "from tensorflow.keras.optimizers import Adam,SGD,RMSprop\n",
        "from tensorflow.keras.utils import plot_model"
      ],
      "execution_count": null,
      "outputs": []
    },
    {
      "cell_type": "code",
      "metadata": {
        "id": "SZfkIRWOrJqA"
      },
      "source": [
        "drive.flush_and_unmount()\n",
        "drive.mount('/content/drive', force_remount=True)"
      ],
      "execution_count": null,
      "outputs": []
    },
    {
      "cell_type": "code",
      "metadata": {
        "id": "PcPcX_R4RR0c"
      },
      "source": [
        "#Paths \n",
        "train_path = '/content/drive/MyDrive/output/train'\n",
        "valid_path = '/content/drive/MyDrive/output/val'\n",
        "test_path  = '/content/drive/MyDrive/output/test'\n",
        "chkpt_path = '/content/drive/MyDrive/check_point1'\n",
        "log_path = os.path.join(\"/content/drive/MyDrive/logs/fit/\", datetime.datetime.now().strftime(\"%Y%m%d-%H%M%S\"))"
      ],
      "execution_count": null,
      "outputs": []
    },
    {
      "cell_type": "code",
      "metadata": {
        "id": "TwvwBgNuRbJe"
      },
      "source": [
        "#Global Parameters\n",
        "types       = ['Atelectasis','NoFinding']\n",
        "batch_size  = 32\n",
        "epochs      = 50"
      ],
      "execution_count": null,
      "outputs": []
    },
    {
      "cell_type": "code",
      "metadata": {
        "id": "-hPJYI3araX_"
      },
      "source": [
        "#ImageDataGenerator\n",
        "train_images = ImageDataGenerator(rotation_range = 5, \n",
        "                                  shear_range = 0.02,\n",
        "                                  zoom_range = 0.02, \n",
        "                                  samplewise_center=True, \n",
        "                                  samplewise_std_normalization= True\n",
        "                                  ).flow_from_directory(train_path, \n",
        "                                                        target_size=(256,256),\n",
        "                                                        color_mode='grayscale',\n",
        "                                                        classes=types, \n",
        "                                                        batch_size=batch_size,\n",
        "                                                        class_mode='binary')                               \n",
        "valid_images = ImageDataGenerator(rotation_range = 5, \n",
        "                                  shear_range = 0.02,\n",
        "                                  zoom_range = 0.02, \n",
        "                                  samplewise_center=True, \n",
        "                                  samplewise_std_normalization= True\n",
        "                                  ).flow_from_directory(valid_path, \n",
        "                                                        target_size=(256,256),\n",
        "                                                        color_mode='grayscale',\n",
        "                                                        classes=types, \n",
        "                                                        batch_size=batch_size,\n",
        "                                                        class_mode='binary')  \n",
        "test_images = ImageDataGenerator().flow_from_directory(test_path, \n",
        "                                                        target_size=(256,256),\n",
        "                                                        color_mode='grayscale',\n",
        "                                                        classes=types, \n",
        "                                                        batch_size=batch_size,\n",
        "                                                        class_mode='binary')"
      ],
      "execution_count": null,
      "outputs": []
    },
    {
      "cell_type": "code",
      "metadata": {
        "id": "o_2eOV39q92H"
      },
      "source": [
        "train_images.next()"
      ],
      "execution_count": null,
      "outputs": []
    },
    {
      "cell_type": "code",
      "metadata": {
        "id": "J658K8EqMuXq"
      },
      "source": [
        "p = train_images.next()\n",
        "plt.imshow(p[0][10][:,:,0], cmap='gray')\n",
        "plt.show()"
      ],
      "execution_count": null,
      "outputs": []
    },
    {
      "cell_type": "markdown",
      "metadata": {
        "id": "UrPCrlzrY_mT"
      },
      "source": [
        ""
      ]
    },
    {
      "cell_type": "code",
      "metadata": {
        "id": "ZQeZgozbralB"
      },
      "source": [
        "#Design a convolutional neural network with at least two convolution layers, at least one max-pooling layer, and at least one dropout layer\n",
        "model = Sequential()\n",
        "# adding layers \n",
        "# block 1\n",
        "model.add(Conv2D(64, kernel_size=5, activation='relu', input_shape=(256,256,1)))\n",
        "model.add(MaxPooling2D(pool_size=(2,2)))\n",
        "# block 2\n",
        "model.add(Conv2D(96, kernel_size=3, activation='relu'))\n",
        "model.add(MaxPooling2D(pool_size=(2,2)))\n",
        "# block 3\n",
        "model.add(Conv2D(192, kernel_size=3, activation='relu'))\n",
        "model.add(Conv2D(192, kernel_size=3, activation='relu'))\n",
        "model.add(MaxPooling2D(pool_size=(2,2)))\n",
        "# block 4\n",
        "model.add(Conv2D(384, kernel_size=3, activation='relu'))\n",
        "model.add(Conv2D(384, kernel_size=3, activation='relu'))\n",
        "model.add(Conv2D(384, kernel_size=3, activation='relu'))\n",
        "model.add(MaxPooling2D(pool_size=(2,2)))\n",
        "# block 5\n",
        "model.add(Conv2D(512, kernel_size=3, activation='relu'))\n",
        "model.add(Conv2D(512, kernel_size=3, activation='relu'))\n",
        "model.add(Conv2D(512, kernel_size=3, activation='relu'))\n",
        "model.add(MaxPooling2D(pool_size=(2,2)))\n",
        "# block 5\n",
        "model.add(Flatten())\n",
        "model.add(Dense(128, activation='relu'))\n",
        "model.add(Dropout(0.2))\n",
        "model.add(Dense(64, activation='relu'))\n",
        "model.add(Dropout(0.2))\n",
        "model.add(Dense(1, activation='sigmoid'))\n",
        "# compiling the model\n",
        "model.compile(optimizer='adam', \n",
        "              loss='binary_crossentropy', \n",
        "              metrics=[BinaryAccuracy(), \n",
        "                       Recall(), \n",
        "                       Precision()\n",
        "                      ])"
      ],
      "execution_count": null,
      "outputs": []
    },
    {
      "cell_type": "code",
      "metadata": {
        "id": "HvFPCwdgt_G9"
      },
      "source": [
        "model.summary()"
      ],
      "execution_count": null,
      "outputs": []
    },
    {
      "cell_type": "code",
      "metadata": {
        "id": "2bka1UZtDZJW"
      },
      "source": [
        "plot_model(model, to_file='/content/drive/MyDrive/figs/greyscale_sequential.png')"
      ],
      "execution_count": null,
      "outputs": []
    },
    {
      "cell_type": "code",
      "metadata": {
        "id": "M0VGu1Tebk8D"
      },
      "source": [
        "train_size  = 3919\n",
        "val_size    = 840\n",
        "compute_steps_per_epoch = lambda x: int(math.ceil(1. * x / batch_size))\n",
        "steps_per_epoch = compute_steps_per_epoch(train_size)\n",
        "val_steps = compute_steps_per_epoch(val_size)"
      ],
      "execution_count": null,
      "outputs": []
    },
    {
      "cell_type": "code",
      "metadata": {
        "id": "l9X-XD8Wt47q"
      },
      "source": [
        "checkpoint = callbacks.ModelCheckpoint(filepath=chkpt_path,\n",
        "                                    save_weights_only=True,\n",
        "                                    monitor='val_binary_accuracy',\n",
        "                                    mode='max',\n",
        "                                    save_best_only=True)\n",
        "earlystop = callbacks.EarlyStopping(monitor='val_binary_accuracy', \n",
        "                                    min_delta=0.001, \n",
        "                                    patience=5, \n",
        "                                    verbose=0,\n",
        "                                    mode='auto', \n",
        "                                    baseline=None, \n",
        "                                    restore_best_weights=True)\n",
        "tensorboard = callbacks.TensorBoard(log_dir=log_path, \n",
        "                                    histogram_freq=1,\n",
        "                                    write_graph=True)\n",
        "\n",
        "# train the model\n",
        "model.fit(train_images,\n",
        "          shuffle=True,\n",
        "          epochs=epochs,\n",
        "          steps_per_epoch=steps_per_epoch,\n",
        "          validation_steps=val_steps,\n",
        "          validation_data=valid_images,\n",
        "          callbacks=[checkpoint, earlystop, tensorboard])"
      ],
      "execution_count": null,
      "outputs": []
    },
    {
      "cell_type": "code",
      "metadata": {
        "id": "OWUQcLwa_oBW"
      },
      "source": [
        "# The model weights (that are considered the best) are loaded into the model.\n",
        "model.load_weights(chkpt_path)\n",
        "# Calculate the class probabilities\n",
        "probabilities = model.predict(test_images)\n"
      ],
      "execution_count": null,
      "outputs": []
    },
    {
      "cell_type": "code",
      "metadata": {
        "id": "WqpkRORawBud"
      },
      "source": [
        "evaluate = model.evaluate(test_images)"
      ],
      "execution_count": null,
      "outputs": []
    },
    {
      "cell_type": "code",
      "metadata": {
        "id": "DBEuUM3qnSjz"
      },
      "source": [
        "classes = probabilities> 0.5\n",
        "classes"
      ],
      "execution_count": null,
      "outputs": []
    },
    {
      "cell_type": "code",
      "metadata": {
        "id": "0NlvhU1uCVFR"
      },
      "source": [
        "for i in range(len(probabilities)):\n",
        "\tprint(\"X=%s, Predicted=%s\" % (probabilities[i], probabilities[i]))"
      ],
      "execution_count": null,
      "outputs": []
    },
    {
      "cell_type": "code",
      "metadata": {
        "id": "ZrgKZx7rEG6E"
      },
      "source": [
        ""
      ],
      "execution_count": null,
      "outputs": []
    },
    {
      "cell_type": "markdown",
      "metadata": {
        "id": "-_7qPh6OGnoO"
      },
      "source": [
        ""
      ]
    },
    {
      "cell_type": "markdown",
      "metadata": {
        "id": "BXlpi5q9GnkC"
      },
      "source": [
        ""
      ]
    },
    {
      "cell_type": "code",
      "metadata": {
        "id": "sjIrku9MBaTH"
      },
      "source": [
        "# ROC AUC Scores\n",
        "roc_auc_score(y_test['label'], probabilities)"
      ],
      "execution_count": null,
      "outputs": []
    },
    {
      "cell_type": "code",
      "metadata": {
        "id": "wBbYSuITrN8L"
      },
      "source": [
        "%load_ext tensorboard\n",
        "#%reload_ext tensorboard\n",
        "import tensorflow as tf\n",
        "import datetime\n",
        "%tensorboard --logdir /content/drive/MyDrive/logs"
      ],
      "execution_count": null,
      "outputs": []
    },
    {
      "cell_type": "code",
      "metadata": {
        "id": "WcbAzdPXOcTT"
      },
      "source": [
        "#ImageDataGenerator\n",
        "train_images = ImageDataGenerator(samplewise_center=True,\n",
        "                                  samplewise_std_normalization= True,\n",
        "                                  rotation_range = 5,\n",
        "                                  width_shift_range=0.2,\n",
        "                                  height_shift_range=0.2,\n",
        "                                  shear_range=0.2,\n",
        "                                  zoom_range=0.2,\n",
        "                                  fill_mode=\"nearest\",\n",
        "                                  cval=0.0).flow_from_directory(train_path, \n",
        "                                                        target_size=(224,224),\n",
        "                                                        classes=types, \n",
        "                                                        batch_size=batch_size,\n",
        "                                                        class_mode='binary')                               \n",
        "valid_images = ImageDataGenerator(samplewise_center=True,\n",
        "                                  samplewise_std_normalization= True,\n",
        "                                  rotation_range = 5,\n",
        "                                  width_shift_range=0.2,\n",
        "                                  height_shift_range=0.2,\n",
        "                                  shear_range=0.2,\n",
        "                                  zoom_range=0.2,\n",
        "                                  fill_mode=\"nearest\",\n",
        "                                  cval=0.0).flow_from_directory(valid_path, \n",
        "                                                        target_size=(224,224),\n",
        "                                                        classes=types, \n",
        "                                                        batch_size=batch_size,\n",
        "                                                        class_mode='binary')  \n",
        "test_images = ImageDataGenerator().flow_from_directory(test_path, \n",
        "                                                        target_size=(224,224),\n",
        "                                                        classes=types, \n",
        "                                                        batch_size=batch_size,\n",
        "                                                        class_mode='binary')"
      ],
      "execution_count": null,
      "outputs": []
    },
    {
      "cell_type": "code",
      "metadata": {
        "id": "GlvS-sYs_IiK"
      },
      "source": [
        "# load model\n",
        "model = VGG16(weights='imagenet', include_top=True)\n",
        "model.trainable = False"
      ],
      "execution_count": null,
      "outputs": []
    },
    {
      "cell_type": "code",
      "metadata": {
        "id": "2nZO3rkQ_Rb4"
      },
      "source": [
        "# adding layers \n",
        "x = model.output\n",
        "# add a 2D global average pooling layer\n",
        "x = Dense(1024, activation='relu')(x)\n",
        "# I add a regularizing layer\n",
        "x = Dropout(0.5)(x)\n",
        "# add a layer for binary classification.\n",
        "predictions = Dense(1, activation='sigmoid')(x)\n",
        "\n",
        "model_vvg_random = Model(inputs=model.input, outputs=predictions)"
      ],
      "execution_count": null,
      "outputs": []
    },
    {
      "cell_type": "code",
      "metadata": {
        "id": "pSbqp4MAwVQf"
      },
      "source": [
        "# compile the model and start training using the previously defined generators\n",
        "# I keep the optimizer and loss function constant for consistency\n",
        "model_vvg_random.compile(optimizer='adam', \n",
        "                         loss='binary_crossentropy',               \n",
        "                         metrics=[\n",
        "                                  BinaryAccuracy(), \n",
        "                                  Recall(), \n",
        "                                  Precision()\n",
        "                                  ])\n",
        "# summarize the model\n",
        "model.summary()"
      ],
      "execution_count": null,
      "outputs": []
    },
    {
      "cell_type": "code",
      "metadata": {
        "id": "dfpa2yX1BbuU"
      },
      "source": [
        "checkpoint = callbacks.ModelCheckpoint(filepath='/content/drive/MyDrive/check_point2',\n",
        "                                    save_weights_only=True,\n",
        "                                    monitor='val_binary_accuracy',\n",
        "                                    mode='max',\n",
        "                                    save_best_only=True)\n",
        "earlystop = callbacks.EarlyStopping(monitor='val_binary_accuracy', \n",
        "                                    min_delta=0.001, \n",
        "                                    patience=5, \n",
        "                                    verbose=0,\n",
        "                                    mode='auto', \n",
        "                                    baseline=None, \n",
        "                                    restore_best_weights=True)\n",
        "tensorboard = callbacks.TensorBoard(log_dir=log_path, \n",
        "                                    histogram_freq=1,\n",
        "                                    write_graph=True)\n",
        "# The model weights (that are considered the best) are loaded into the model.\n",
        "model_vvg_random.load_weights('/content/drive/MyDrive/check_point1')\n",
        "# train the model\n",
        "model_vvg_random.fit(train_images,\n",
        "                      shuffle=True,\n",
        "                      epochs=epochs,\n",
        "                      steps_per_epoch=steps_per_epoch,\n",
        "                      validation_steps=val_steps,\n",
        "                      validation_data=valid_images,\n",
        "                      callbacks=[checkpoint, earlystop, tensorboard])"
      ],
      "execution_count": null,
      "outputs": []
    },
    {
      "cell_type": "code",
      "metadata": {
        "id": "SHCqzePTaN-d"
      },
      "source": [
        "# Calculate the class probabilities\n",
        "probabilities = model_vvg_random.predict(test_images)\n",
        "classes = probabilities> 0.5\n",
        "len(classes)"
      ],
      "execution_count": null,
      "outputs": []
    }
  ]
}