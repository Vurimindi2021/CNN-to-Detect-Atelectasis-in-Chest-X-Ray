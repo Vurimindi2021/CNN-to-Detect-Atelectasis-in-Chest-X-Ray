{
  "nbformat": 4,
  "nbformat_minor": 0,
  "metadata": {
    "colab": {
      "name": "check_bad_image_files.ipynb",
      "private_outputs": true,
      "provenance": [],
      "authorship_tag": "ABX9TyOE7CDRb+vV69QyOrgqnY/z",
      "include_colab_link": true
    },
    "kernelspec": {
      "name": "python3",
      "display_name": "Python 3"
    },
    "language_info": {
      "name": "python"
    }
  },
  "cells": [
    {
      "cell_type": "markdown",
      "metadata": {
        "id": "view-in-github",
        "colab_type": "text"
      },
      "source": [
        "<a href=\"https://colab.research.google.com/github/Vurimindi2021/CNN-to-Detect-Atelectasis-in-Chest-X-Ray/blob/main/src/check_bad_image_files.ipynb\" target=\"_parent\"><img src=\"https://colab.research.google.com/assets/colab-badge.svg\" alt=\"Open In Colab\"/></a>"
      ]
    },
    {
      "cell_type": "code",
      "metadata": {
        "id": "HCI95d5KpP3U"
      },
      "source": [
        "from google.colab import drive\n",
        "drive.flush_and_unmount()\n",
        "drive.mount('/content/drive', force_remount=True)\n"
      ],
      "execution_count": null,
      "outputs": []
    },
    {
      "cell_type": "code",
      "metadata": {
        "id": "9mn-A8uxpeOS"
      },
      "source": [
        "from os import listdir\n",
        "from PIL import Image\n",
        "count=0\n",
        "for filename in listdir('/content/drive/MyDrive/data/NoFinding/'):\n",
        "  \n",
        "  if filename.endswith('.png'):\n",
        "    try:\n",
        "      img = Image.open('/content/drive/MyDrive/data/NoFinding/'+filename) # open the image file\n",
        "      img.verify() # verify that it is, in fact an image\n",
        "    except (IOError, SyntaxError) as e:\n",
        "      count+=1\n",
        "      print('Bad file:', filename) # print out the names of corrupt files\n",
        "  \n",
        "print(count)"
      ],
      "execution_count": null,
      "outputs": []
    }
  ]
}