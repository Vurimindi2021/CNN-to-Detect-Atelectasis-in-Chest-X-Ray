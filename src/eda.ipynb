{
  "nbformat": 4,
  "nbformat_minor": 0,
  "metadata": {
    "colab": {
      "name": "eda.ipynb",
      "private_outputs": true,
      "provenance": [],
      "authorship_tag": "ABX9TyM2v5C1bygZOZGfCfGfGjb+",
      "include_colab_link": true
    },
    "kernelspec": {
      "name": "python3",
      "display_name": "Python 3"
    },
    "language_info": {
      "name": "python"
    }
  },
  "cells": [
    {
      "cell_type": "markdown",
      "metadata": {
        "id": "view-in-github",
        "colab_type": "text"
      },
      "source": [
        "<a href=\"https://colab.research.google.com/github/Vurimindi2021/CNN-to-Detect-Atelectasis-in-Chest-X-Ray/blob/main/src/eda.ipynb\" target=\"_parent\"><img src=\"https://colab.research.google.com/assets/colab-badge.svg\" alt=\"Open In Colab\"/></a>"
      ]
    },
    {
      "cell_type": "markdown",
      "metadata": {
        "id": "HpPUIlS4zeLS"
      },
      "source": [
        "#Import Python Libraries"
      ]
    },
    {
      "cell_type": "code",
      "metadata": {
        "id": "hwqbu9nJGpt1"
      },
      "source": [
        "import numpy as np\n",
        "import pandas as pd\n",
        "import os\n",
        "import cv2\n",
        "import shutil\n",
        "import matplotlib.pyplot as plt\n",
        "from os import path\n",
        "from matplotlib.image import imread\n",
        "from google.colab import drive\n",
        "from keras.preprocessing.image import ImageDataGenerator, load_img"
      ],
      "execution_count": null,
      "outputs": []
    },
    {
      "cell_type": "code",
      "metadata": {
        "id": "MLQcrNVGzas-"
      },
      "source": [
        "drive.flush_and_unmount()\n",
        "drive.mount('/content/drive', force_remount=True)"
      ],
      "execution_count": null,
      "outputs": []
    },
    {
      "cell_type": "code",
      "metadata": {
        "id": "K-3T11YshhEo"
      },
      "source": [
        "csvlst= ['/content/drive/My Drive/Colab Notebooks/images_01.csv',\n",
        "         '/content/drive/My Drive/Colab Notebooks/images_02.csv',\n",
        "         '/content/drive/My Drive/Colab Notebooks/images_03.csv',\n",
        "         '/content/drive/My Drive/Colab Notebooks/images_04.csv',\n",
        "         '/content/drive/My Drive/Colab Notebooks/images_05.csv',\n",
        "         '/content/drive/My Drive/Colab Notebooks/images_06.csv',\n",
        "         '/content/drive/My Drive/Colab Notebooks/images_07.csv',\n",
        "         '/content/drive/My Drive/Colab Notebooks/images_08.csv',\n",
        "         '/content/drive/My Drive/Colab Notebooks/images_09.csv',\n",
        "         '/content/drive/My Drive/Colab Notebooks/images_10.csv',\n",
        "         '/content/drive/My Drive/Colab Notebooks/images_11.csv',\n",
        "         '/content/drive/My Drive/Colab Notebooks/images_12.csv'\n",
        "        ]"
      ],
      "execution_count": null,
      "outputs": []
    },
    {
      "cell_type": "code",
      "metadata": {
        "id": "RbUBMt6Phqe-"
      },
      "source": [
        "imported_images = pd.concat(map(pd.read_csv, csvlst))\n",
        "imported_images.drop(columns=[\"Unnamed: 0\"])\n",
        "image_metadata = pd.read_csv('/content/drive/My Drive/Colab Notebooks/Data_Entry_2017_v2020.csv')\n",
        "bbox_data = pd.read_csv('/content/drive/MyDrive/Colab Notebooks/BBox_List_2017.csv')\n",
        "print(\"Images Metadata: \", len(image_metadata), \"Imported Inages: \", len(imported_images), \"BBox Images: \", len(bbox_data))"
      ],
      "execution_count": null,
      "outputs": []
    },
    {
      "cell_type": "code",
      "metadata": {
        "id": "1OLG-kZFpWkf"
      },
      "source": [
        "splitfindings = image_metadata['Finding Labels'].str.split(\"|\", expand = True)\n",
        "splitfindings.info()\n",
        "image_metadata['Finding'] = splitfindings[0]\n",
        "image_metadata['Finding1']=image_metadata['Finding'].str.replace(\" \",\"\")\n",
        "image_metadata['Finding1'].value_counts()"
      ],
      "execution_count": null,
      "outputs": []
    },
    {
      "cell_type": "code",
      "metadata": {
        "id": "ewbNA_VApfRA"
      },
      "source": [
        "merge_image_metadata= pd.merge(\n",
        "    right=imported_images,\n",
        "    left=image_metadata,\n",
        "    how=\"inner\",\n",
        "    on=None,\n",
        "    right_on=['Image Index'],\n",
        "    left_on=['Image Index'],\n",
        "    left_index=False,\n",
        "    right_index=False,\n",
        "    sort=True,\n",
        "    suffixes=None,\n",
        "    copy=True,\n",
        "    indicator=False,\n",
        "    validate=None)\n",
        "print(\"Image Metadata:\",len(image_metadata))\n",
        "print(\"Imported Images:\",len(imported_images))\n",
        "print(\"Merged:\", len(merge_image_metadata))"
      ],
      "execution_count": null,
      "outputs": []
    },
    {
      "cell_type": "code",
      "metadata": {
        "id": "Odcqz-G0sp1B"
      },
      "source": [
        "parent_dir= \"/content/drive/MyDrive/images/\"\n",
        "dirlst=list(image_metadata['Finding1'].unique())\n",
        "for dir in dirlst:\n",
        "  path = os.path.join(parent_dir, dir)\n",
        "  if os.path.isdir(path) == False:\n",
        "    os.mkdir(path)\n",
        "    print(\"Directory '% s' created\" % dir)"
      ],
      "execution_count": null,
      "outputs": []
    },
    {
      "cell_type": "code",
      "metadata": {
        "id": "eafuR3ZYO9GV"
      },
      "source": [
        "image_class_all = merge_image_metadata[['Image Index','Finding1']]\n",
        "\n",
        "errors = []\n",
        "root_dir= \"/content/drive/MyDrive/\"\n",
        "for idx, csv in enumerate(csvlst,1):\n",
        "  csv_data = pd.read_csv(csv)\n",
        "  csv_data.drop(columns=[\"Unnamed: 0\"])\n",
        "  image_class= pd.merge(\n",
        "    right=csv_data,\n",
        "    left=image_class_all,\n",
        "    how=\"inner\",\n",
        "    on=None,\n",
        "    right_on=['Image Index'],\n",
        "    left_on=['Image Index'],\n",
        "    left_index=False,\n",
        "    right_index=False,\n",
        "    sort=True,\n",
        "    suffixes=None,\n",
        "    copy=True,\n",
        "    indicator=False,\n",
        "    validate=None)\n",
        "\n",
        "  for row in  range(len(image_class)):\n",
        "    image = image_class.iloc[row,0]\n",
        "    subdir= image_class.iloc[row,1]\n",
        "    infile = os.path.join(root_dir, 'images_%02d' % (idx), 'images',image)\n",
        "    outfile = os.path.join(root_dir, 'images', subdir, image)\n",
        "    try:\n",
        "      os.system('cp -p %s %s' % (infile, outfile))\n",
        "      #shutil.copy(infile, outfile)\n",
        "    except OSError as error:\n",
        "      print(error)\n",
        "      continue\n",
        "  print(\"End of copying images from:\", 'images_%02d' % (idx))"
      ],
      "execution_count": null,
      "outputs": []
    },
    {
      "cell_type": "code",
      "metadata": {
        "id": "PN9LC7zRykbn"
      },
      "source": [
        "img = cv2.imread(\"/content/drive/MyDrive/data/Atelectasis/00000011_006.png\")\n",
        "dimensions = img.shape\n",
        "print(\"Dimensions : \",dimensions)\n",
        "print(\"Height : \",dimensions[0])\n",
        "print(\"Width : \",dimensions[1])\n",
        "print(\"Channels : \",dimensions[2])"
      ],
      "execution_count": null,
      "outputs": []
    },
    {
      "cell_type": "code",
      "metadata": {
        "id": "WwDmtK9ZwPfU"
      },
      "source": [
        "image_title = \"Atelectasis\"\n",
        "img = load_img(\"/content/drive/MyDrive/data/Atelectasis/00000011_006.png\")\n",
        "\n",
        "plt.imshow(img)\n",
        "plt.title(image_title)\n",
        "plt.show()"
      ],
      "execution_count": null,
      "outputs": []
    },
    {
      "cell_type": "code",
      "metadata": {
        "id": "VFtPp-HixY6F"
      },
      "source": [
        "image_title = \"No Finding\"\n",
        "img = load_img(\"/content/drive/MyDrive/data/NoFinding/00010237_000.png\")\n",
        "plt.imshow(img)\n",
        "plt.title(image_title)\n",
        "plt.show()"
      ],
      "execution_count": null,
      "outputs": []
    },
    {
      "cell_type": "code",
      "metadata": {
        "id": "ixLGnRT5BJ-H"
      },
      "source": [
        ""
      ],
      "execution_count": null,
      "outputs": []
    }
  ]
}