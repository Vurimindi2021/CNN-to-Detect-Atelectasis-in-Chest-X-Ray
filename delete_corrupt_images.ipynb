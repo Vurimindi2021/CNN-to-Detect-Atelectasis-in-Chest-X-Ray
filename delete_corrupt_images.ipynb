{
  "nbformat": 4,
  "nbformat_minor": 0,
  "metadata": {
    "colab": {
      "name": "delete_corrupt_images.ipynb",
      "private_outputs": true,
      "provenance": [],
      "machine_shape": "hm",
      "authorship_tag": "ABX9TyN+MTtKko/5d0xj3QbXTPSz",
      "include_colab_link": true
    },
    "kernelspec": {
      "name": "python3",
      "display_name": "Python 3"
    },
    "language_info": {
      "name": "python"
    }
  },
  "cells": [
    {
      "cell_type": "markdown",
      "metadata": {
        "id": "view-in-github",
        "colab_type": "text"
      },
      "source": [
        "<a href=\"https://colab.research.google.com/github/Vurimindi2021/Capstone2/blob/main/delete_corrupt_images.ipynb\" target=\"_parent\"><img src=\"https://colab.research.google.com/assets/colab-badge.svg\" alt=\"Open In Colab\"/></a>"
      ]
    },
    {
      "cell_type": "code",
      "metadata": {
        "id": "RhandNZsModx"
      },
      "source": [
        "from google.colab import drive\n",
        "from os import path, walk\n",
        "import os\n",
        "drive.flush_and_unmount()\n",
        "drive.mount('/content/drive', force_remount=True)"
      ],
      "execution_count": null,
      "outputs": []
    },
    {
      "cell_type": "code",
      "metadata": {
        "id": "kYPOJZSsPRVv"
      },
      "source": [
        "corrupt_images=['00017670_003.png', '00017692_002.png']\n",
        "imagepath='/content/drive/MyDrive/class_output/val/Atelectasis/'\n",
        "for idx, image in  enumerate(corrupt_images):\n",
        "  infile = os.path.join(imagepath, image)\n",
        "  os.system('rm -rf %s' % (infile))"
      ],
      "execution_count": null,
      "outputs": []
    },
    {
      "cell_type": "code",
      "metadata": {
        "id": "0-pKA9hTQxJj"
      },
      "source": [
        "/content/drive/MyDrive/output/train/Atelectasis\n",
        "/content/drive/MyDrive/output/test/Atelectasis\n",
        "/content/drive/MyDrive/output/val/Atelectasis\n"
      ],
      "execution_count": null,
      "outputs": []
    },
    {
      "cell_type": "code",
      "metadata": {
        "id": "tOJOCn7OQ2bD"
      },
      "source": [
        ""
      ],
      "execution_count": null,
      "outputs": []
    }
  ]
}